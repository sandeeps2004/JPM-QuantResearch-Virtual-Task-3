{
  "nbformat": 4,
  "nbformat_minor": 0,
  "metadata": {
    "colab": {
      "provenance": [],
      "authorship_tag": "ABX9TyOaDsOlusidkFFJrFINez9K",
      "include_colab_link": true
    },
    "kernelspec": {
      "name": "python3",
      "display_name": "Python 3"
    },
    "language_info": {
      "name": "python"
    }
  },
  "cells": [
    {
      "cell_type": "markdown",
      "metadata": {
        "id": "view-in-github",
        "colab_type": "text"
      },
      "source": [
        "<a href=\"https://colab.research.google.com/github/sandeeps2004/JPM-QuantResearch-Virtual-Task-3/blob/main/credit_risk_analysis.ipynb\" target=\"_parent\"><img src=\"https://colab.research.google.com/assets/colab-badge.svg\" alt=\"Open In Colab\"/></a>"
      ]
    },
    {
      "cell_type": "code",
      "execution_count": 8,
      "metadata": {
        "id": "sFxF_aKUoRNg"
      },
      "outputs": [],
      "source": [
        "import pandas as pd\n",
        "import numpy as np\n",
        "from sklearn.model_selection import train_test_split\n",
        "from sklearn.linear_model import LogisticRegression\n",
        "from sklearn import metrics\n",
        "from sklearn.metrics import classification_report, roc_auc_score, roc_curve\n",
        "import matplotlib.pyplot as plt\n",
        "import seaborn as sns"
      ]
    },
    {
      "cell_type": "code",
      "source": [
        "df = pd.read_csv('/content/Task 3 and 4_Loan_Data.csv')"
      ],
      "metadata": {
        "id": "mfXhPd3yoZzC"
      },
      "execution_count": 2,
      "outputs": []
    },
    {
      "cell_type": "code",
      "source": [
        "df = df.drop('customer_id', axis=1)"
      ],
      "metadata": {
        "id": "5IpuRK8eov8q"
      },
      "execution_count": 3,
      "outputs": []
    },
    {
      "cell_type": "code",
      "source": [
        "df.head()"
      ],
      "metadata": {
        "colab": {
          "base_uri": "https://localhost:8080/",
          "height": 206
        },
        "id": "Xhcc5sVlox4S",
        "outputId": "35fcc55b-e6e7-494b-b76f-099a5d2ac79b"
      },
      "execution_count": 4,
      "outputs": [
        {
          "output_type": "execute_result",
          "data": {
            "text/plain": [
              "   credit_lines_outstanding  loan_amt_outstanding  total_debt_outstanding  \\\n",
              "0                         0           5221.545193             3915.471226   \n",
              "1                         5           1958.928726             8228.752520   \n",
              "2                         0           3363.009259             2027.830850   \n",
              "3                         0           4766.648001             2501.730397   \n",
              "4                         1           1345.827718             1768.826187   \n",
              "\n",
              "        income  years_employed  fico_score  default  \n",
              "0  78039.38546               5         605        0  \n",
              "1  26648.43525               2         572        1  \n",
              "2  65866.71246               4         602        0  \n",
              "3  74356.88347               5         612        0  \n",
              "4  23448.32631               6         631        0  "
            ],
            "text/html": [
              "\n",
              "  <div id=\"df-042778d4-7f8f-4b4b-9140-0915c346f134\" class=\"colab-df-container\">\n",
              "    <div>\n",
              "<style scoped>\n",
              "    .dataframe tbody tr th:only-of-type {\n",
              "        vertical-align: middle;\n",
              "    }\n",
              "\n",
              "    .dataframe tbody tr th {\n",
              "        vertical-align: top;\n",
              "    }\n",
              "\n",
              "    .dataframe thead th {\n",
              "        text-align: right;\n",
              "    }\n",
              "</style>\n",
              "<table border=\"1\" class=\"dataframe\">\n",
              "  <thead>\n",
              "    <tr style=\"text-align: right;\">\n",
              "      <th></th>\n",
              "      <th>credit_lines_outstanding</th>\n",
              "      <th>loan_amt_outstanding</th>\n",
              "      <th>total_debt_outstanding</th>\n",
              "      <th>income</th>\n",
              "      <th>years_employed</th>\n",
              "      <th>fico_score</th>\n",
              "      <th>default</th>\n",
              "    </tr>\n",
              "  </thead>\n",
              "  <tbody>\n",
              "    <tr>\n",
              "      <th>0</th>\n",
              "      <td>0</td>\n",
              "      <td>5221.545193</td>\n",
              "      <td>3915.471226</td>\n",
              "      <td>78039.38546</td>\n",
              "      <td>5</td>\n",
              "      <td>605</td>\n",
              "      <td>0</td>\n",
              "    </tr>\n",
              "    <tr>\n",
              "      <th>1</th>\n",
              "      <td>5</td>\n",
              "      <td>1958.928726</td>\n",
              "      <td>8228.752520</td>\n",
              "      <td>26648.43525</td>\n",
              "      <td>2</td>\n",
              "      <td>572</td>\n",
              "      <td>1</td>\n",
              "    </tr>\n",
              "    <tr>\n",
              "      <th>2</th>\n",
              "      <td>0</td>\n",
              "      <td>3363.009259</td>\n",
              "      <td>2027.830850</td>\n",
              "      <td>65866.71246</td>\n",
              "      <td>4</td>\n",
              "      <td>602</td>\n",
              "      <td>0</td>\n",
              "    </tr>\n",
              "    <tr>\n",
              "      <th>3</th>\n",
              "      <td>0</td>\n",
              "      <td>4766.648001</td>\n",
              "      <td>2501.730397</td>\n",
              "      <td>74356.88347</td>\n",
              "      <td>5</td>\n",
              "      <td>612</td>\n",
              "      <td>0</td>\n",
              "    </tr>\n",
              "    <tr>\n",
              "      <th>4</th>\n",
              "      <td>1</td>\n",
              "      <td>1345.827718</td>\n",
              "      <td>1768.826187</td>\n",
              "      <td>23448.32631</td>\n",
              "      <td>6</td>\n",
              "      <td>631</td>\n",
              "      <td>0</td>\n",
              "    </tr>\n",
              "  </tbody>\n",
              "</table>\n",
              "</div>\n",
              "    <div class=\"colab-df-buttons\">\n",
              "\n",
              "  <div class=\"colab-df-container\">\n",
              "    <button class=\"colab-df-convert\" onclick=\"convertToInteractive('df-042778d4-7f8f-4b4b-9140-0915c346f134')\"\n",
              "            title=\"Convert this dataframe to an interactive table.\"\n",
              "            style=\"display:none;\">\n",
              "\n",
              "  <svg xmlns=\"http://www.w3.org/2000/svg\" height=\"24px\" viewBox=\"0 -960 960 960\">\n",
              "    <path d=\"M120-120v-720h720v720H120Zm60-500h600v-160H180v160Zm220 220h160v-160H400v160Zm0 220h160v-160H400v160ZM180-400h160v-160H180v160Zm440 0h160v-160H620v160ZM180-180h160v-160H180v160Zm440 0h160v-160H620v160Z\"/>\n",
              "  </svg>\n",
              "    </button>\n",
              "\n",
              "  <style>\n",
              "    .colab-df-container {\n",
              "      display:flex;\n",
              "      gap: 12px;\n",
              "    }\n",
              "\n",
              "    .colab-df-convert {\n",
              "      background-color: #E8F0FE;\n",
              "      border: none;\n",
              "      border-radius: 50%;\n",
              "      cursor: pointer;\n",
              "      display: none;\n",
              "      fill: #1967D2;\n",
              "      height: 32px;\n",
              "      padding: 0 0 0 0;\n",
              "      width: 32px;\n",
              "    }\n",
              "\n",
              "    .colab-df-convert:hover {\n",
              "      background-color: #E2EBFA;\n",
              "      box-shadow: 0px 1px 2px rgba(60, 64, 67, 0.3), 0px 1px 3px 1px rgba(60, 64, 67, 0.15);\n",
              "      fill: #174EA6;\n",
              "    }\n",
              "\n",
              "    .colab-df-buttons div {\n",
              "      margin-bottom: 4px;\n",
              "    }\n",
              "\n",
              "    [theme=dark] .colab-df-convert {\n",
              "      background-color: #3B4455;\n",
              "      fill: #D2E3FC;\n",
              "    }\n",
              "\n",
              "    [theme=dark] .colab-df-convert:hover {\n",
              "      background-color: #434B5C;\n",
              "      box-shadow: 0px 1px 3px 1px rgba(0, 0, 0, 0.15);\n",
              "      filter: drop-shadow(0px 1px 2px rgba(0, 0, 0, 0.3));\n",
              "      fill: #FFFFFF;\n",
              "    }\n",
              "  </style>\n",
              "\n",
              "    <script>\n",
              "      const buttonEl =\n",
              "        document.querySelector('#df-042778d4-7f8f-4b4b-9140-0915c346f134 button.colab-df-convert');\n",
              "      buttonEl.style.display =\n",
              "        google.colab.kernel.accessAllowed ? 'block' : 'none';\n",
              "\n",
              "      async function convertToInteractive(key) {\n",
              "        const element = document.querySelector('#df-042778d4-7f8f-4b4b-9140-0915c346f134');\n",
              "        const dataTable =\n",
              "          await google.colab.kernel.invokeFunction('convertToInteractive',\n",
              "                                                    [key], {});\n",
              "        if (!dataTable) return;\n",
              "\n",
              "        const docLinkHtml = 'Like what you see? Visit the ' +\n",
              "          '<a target=\"_blank\" href=https://colab.research.google.com/notebooks/data_table.ipynb>data table notebook</a>'\n",
              "          + ' to learn more about interactive tables.';\n",
              "        element.innerHTML = '';\n",
              "        dataTable['output_type'] = 'display_data';\n",
              "        await google.colab.output.renderOutput(dataTable, element);\n",
              "        const docLink = document.createElement('div');\n",
              "        docLink.innerHTML = docLinkHtml;\n",
              "        element.appendChild(docLink);\n",
              "      }\n",
              "    </script>\n",
              "  </div>\n",
              "\n",
              "\n",
              "    <div id=\"df-08cae41f-bf3a-4ce2-8e8c-21998d046b70\">\n",
              "      <button class=\"colab-df-quickchart\" onclick=\"quickchart('df-08cae41f-bf3a-4ce2-8e8c-21998d046b70')\"\n",
              "                title=\"Suggest charts\"\n",
              "                style=\"display:none;\">\n",
              "\n",
              "<svg xmlns=\"http://www.w3.org/2000/svg\" height=\"24px\"viewBox=\"0 0 24 24\"\n",
              "     width=\"24px\">\n",
              "    <g>\n",
              "        <path d=\"M19 3H5c-1.1 0-2 .9-2 2v14c0 1.1.9 2 2 2h14c1.1 0 2-.9 2-2V5c0-1.1-.9-2-2-2zM9 17H7v-7h2v7zm4 0h-2V7h2v10zm4 0h-2v-4h2v4z\"/>\n",
              "    </g>\n",
              "</svg>\n",
              "      </button>\n",
              "\n",
              "<style>\n",
              "  .colab-df-quickchart {\n",
              "      --bg-color: #E8F0FE;\n",
              "      --fill-color: #1967D2;\n",
              "      --hover-bg-color: #E2EBFA;\n",
              "      --hover-fill-color: #174EA6;\n",
              "      --disabled-fill-color: #AAA;\n",
              "      --disabled-bg-color: #DDD;\n",
              "  }\n",
              "\n",
              "  [theme=dark] .colab-df-quickchart {\n",
              "      --bg-color: #3B4455;\n",
              "      --fill-color: #D2E3FC;\n",
              "      --hover-bg-color: #434B5C;\n",
              "      --hover-fill-color: #FFFFFF;\n",
              "      --disabled-bg-color: #3B4455;\n",
              "      --disabled-fill-color: #666;\n",
              "  }\n",
              "\n",
              "  .colab-df-quickchart {\n",
              "    background-color: var(--bg-color);\n",
              "    border: none;\n",
              "    border-radius: 50%;\n",
              "    cursor: pointer;\n",
              "    display: none;\n",
              "    fill: var(--fill-color);\n",
              "    height: 32px;\n",
              "    padding: 0;\n",
              "    width: 32px;\n",
              "  }\n",
              "\n",
              "  .colab-df-quickchart:hover {\n",
              "    background-color: var(--hover-bg-color);\n",
              "    box-shadow: 0 1px 2px rgba(60, 64, 67, 0.3), 0 1px 3px 1px rgba(60, 64, 67, 0.15);\n",
              "    fill: var(--button-hover-fill-color);\n",
              "  }\n",
              "\n",
              "  .colab-df-quickchart-complete:disabled,\n",
              "  .colab-df-quickchart-complete:disabled:hover {\n",
              "    background-color: var(--disabled-bg-color);\n",
              "    fill: var(--disabled-fill-color);\n",
              "    box-shadow: none;\n",
              "  }\n",
              "\n",
              "  .colab-df-spinner {\n",
              "    border: 2px solid var(--fill-color);\n",
              "    border-color: transparent;\n",
              "    border-bottom-color: var(--fill-color);\n",
              "    animation:\n",
              "      spin 1s steps(1) infinite;\n",
              "  }\n",
              "\n",
              "  @keyframes spin {\n",
              "    0% {\n",
              "      border-color: transparent;\n",
              "      border-bottom-color: var(--fill-color);\n",
              "      border-left-color: var(--fill-color);\n",
              "    }\n",
              "    20% {\n",
              "      border-color: transparent;\n",
              "      border-left-color: var(--fill-color);\n",
              "      border-top-color: var(--fill-color);\n",
              "    }\n",
              "    30% {\n",
              "      border-color: transparent;\n",
              "      border-left-color: var(--fill-color);\n",
              "      border-top-color: var(--fill-color);\n",
              "      border-right-color: var(--fill-color);\n",
              "    }\n",
              "    40% {\n",
              "      border-color: transparent;\n",
              "      border-right-color: var(--fill-color);\n",
              "      border-top-color: var(--fill-color);\n",
              "    }\n",
              "    60% {\n",
              "      border-color: transparent;\n",
              "      border-right-color: var(--fill-color);\n",
              "    }\n",
              "    80% {\n",
              "      border-color: transparent;\n",
              "      border-right-color: var(--fill-color);\n",
              "      border-bottom-color: var(--fill-color);\n",
              "    }\n",
              "    90% {\n",
              "      border-color: transparent;\n",
              "      border-bottom-color: var(--fill-color);\n",
              "    }\n",
              "  }\n",
              "</style>\n",
              "\n",
              "      <script>\n",
              "        async function quickchart(key) {\n",
              "          const quickchartButtonEl =\n",
              "            document.querySelector('#' + key + ' button');\n",
              "          quickchartButtonEl.disabled = true;  // To prevent multiple clicks.\n",
              "          quickchartButtonEl.classList.add('colab-df-spinner');\n",
              "          try {\n",
              "            const charts = await google.colab.kernel.invokeFunction(\n",
              "                'suggestCharts', [key], {});\n",
              "          } catch (error) {\n",
              "            console.error('Error during call to suggestCharts:', error);\n",
              "          }\n",
              "          quickchartButtonEl.classList.remove('colab-df-spinner');\n",
              "          quickchartButtonEl.classList.add('colab-df-quickchart-complete');\n",
              "        }\n",
              "        (() => {\n",
              "          let quickchartButtonEl =\n",
              "            document.querySelector('#df-08cae41f-bf3a-4ce2-8e8c-21998d046b70 button');\n",
              "          quickchartButtonEl.style.display =\n",
              "            google.colab.kernel.accessAllowed ? 'block' : 'none';\n",
              "        })();\n",
              "      </script>\n",
              "    </div>\n",
              "\n",
              "    </div>\n",
              "  </div>\n"
            ],
            "application/vnd.google.colaboratory.intrinsic+json": {
              "type": "dataframe",
              "variable_name": "df",
              "summary": "{\n  \"name\": \"df\",\n  \"rows\": 10000,\n  \"fields\": [\n    {\n      \"column\": \"credit_lines_outstanding\",\n      \"properties\": {\n        \"dtype\": \"number\",\n        \"std\": 1,\n        \"min\": 0,\n        \"max\": 5,\n        \"num_unique_values\": 6,\n        \"samples\": [\n          0,\n          5,\n          3\n        ],\n        \"semantic_type\": \"\",\n        \"description\": \"\"\n      }\n    },\n    {\n      \"column\": \"loan_amt_outstanding\",\n      \"properties\": {\n        \"dtype\": \"number\",\n        \"std\": 1421.3990776378912,\n        \"min\": 46.7839734,\n        \"max\": 10750.67781,\n        \"num_unique_values\": 10000,\n        \"samples\": [\n          3584.844437,\n          5821.006507,\n          5343.193215\n        ],\n        \"semantic_type\": \"\",\n        \"description\": \"\"\n      }\n    },\n    {\n      \"column\": \"total_debt_outstanding\",\n      \"properties\": {\n        \"dtype\": \"number\",\n        \"std\": 6627.164761596846,\n        \"min\": 31.65273156,\n        \"max\": 43688.7841,\n        \"num_unique_values\": 10000,\n        \"samples\": [\n          7708.784716,\n          16345.02539,\n          30614.60303\n        ],\n        \"semantic_type\": \"\",\n        \"description\": \"\"\n      }\n    },\n    {\n      \"column\": \"income\",\n      \"properties\": {\n        \"dtype\": \"number\",\n        \"std\": 20072.21414316545,\n        \"min\": 1000.0,\n        \"max\": 148412.1805,\n        \"num_unique_values\": 9995,\n        \"samples\": [\n          81804.17266,\n          62216.69428,\n          61362.2156\n        ],\n        \"semantic_type\": \"\",\n        \"description\": \"\"\n      }\n    },\n    {\n      \"column\": \"years_employed\",\n      \"properties\": {\n        \"dtype\": \"number\",\n        \"std\": 1,\n        \"min\": 0,\n        \"max\": 10,\n        \"num_unique_values\": 11,\n        \"samples\": [\n          7,\n          5,\n          0\n        ],\n        \"semantic_type\": \"\",\n        \"description\": \"\"\n      }\n    },\n    {\n      \"column\": \"fico_score\",\n      \"properties\": {\n        \"dtype\": \"number\",\n        \"std\": 60,\n        \"min\": 408,\n        \"max\": 850,\n        \"num_unique_values\": 374,\n        \"samples\": [\n          500,\n          560,\n          644\n        ],\n        \"semantic_type\": \"\",\n        \"description\": \"\"\n      }\n    },\n    {\n      \"column\": \"default\",\n      \"properties\": {\n        \"dtype\": \"number\",\n        \"std\": 0,\n        \"min\": 0,\n        \"max\": 1,\n        \"num_unique_values\": 2,\n        \"samples\": [\n          1,\n          0\n        ],\n        \"semantic_type\": \"\",\n        \"description\": \"\"\n      }\n    }\n  ]\n}"
            }
          },
          "metadata": {},
          "execution_count": 4
        }
      ]
    },
    {
      "cell_type": "code",
      "source": [
        "# Calculate ratios\n",
        "df[\"payment_to_income\"] = df[\"loan_amt_outstanding\"] / df[\"income\"]\n",
        "df[\"debt_to_income\"] = df[\"total_debt_outstanding\"] / df[\"income\"]\n",
        "\n",
        "# Define features and target\n",
        "features = [\n",
        "    \"credit_lines_outstanding\",\n",
        "    \"debt_to_income\",\n",
        "    \"payment_to_income\",\n",
        "    \"years_employed\",\n",
        "    \"fico_score\"\n",
        "]\n",
        "target = \"default\"\n",
        "\n",
        "X = df[features]\n",
        "y = df[target]"
      ],
      "metadata": {
        "id": "LdonPN4Sp5c6"
      },
      "execution_count": 5,
      "outputs": []
    },
    {
      "cell_type": "code",
      "source": [
        "clf = LogisticRegression(\n",
        "    random_state=0,\n",
        "    solver=\"liblinear\",\n",
        "    tol=1e-5,\n",
        "    max_iter=10000\n",
        ").fit(X, y)\n",
        "\n",
        "print(\"\\nModel Coefficients:\", clf.coef_)\n",
        "print(\"Model Intercept:\", clf.intercept_)"
      ],
      "metadata": {
        "colab": {
          "base_uri": "https://localhost:8080/"
        },
        "id": "nrMQsgwaqYcl",
        "outputId": "500ec561-21a5-4bbb-f57a-7227978d79d2"
      },
      "execution_count": 6,
      "outputs": [
        {
          "output_type": "stream",
          "name": "stdout",
          "text": [
            "\n",
            "Model Coefficients: [[ 8.18520373  0.54490854  0.01994244 -2.77630853 -0.02418391]]\n",
            "Model Intercept: [-0.09162643]\n"
          ]
        }
      ]
    },
    {
      "cell_type": "code",
      "source": [
        "y_pred = clf.predict(X)\n",
        "y_prob = clf.predict_proba(X)[:, 1]\n",
        "\n",
        "fpr, tpr, thresholds = metrics.roc_curve(y, y_prob)\n",
        "auc_value = metrics.auc(fpr, tpr)\n",
        "error_rate = np.mean(np.abs(y - y_pred))"
      ],
      "metadata": {
        "id": "4gRGQerRq6B-"
      },
      "execution_count": 9,
      "outputs": []
    },
    {
      "cell_type": "code",
      "source": [
        "print(\"\\nModel Performance:\")\n",
        "print(f\"Error Rate: {error_rate:.4f}\")\n",
        "print(f\"AUC Score: {auc_value:.4f}\")"
      ],
      "metadata": {
        "colab": {
          "base_uri": "https://localhost:8080/"
        },
        "id": "GhroZcYkrd8f",
        "outputId": "f9b99a0c-0b7f-4ec7-dd27-42d684071d63"
      },
      "execution_count": 10,
      "outputs": [
        {
          "output_type": "stream",
          "name": "stdout",
          "text": [
            "\n",
            "Model Performance:\n",
            "Error Rate: 0.0037\n",
            "AUC Score: 0.9999\n"
          ]
        }
      ]
    },
    {
      "cell_type": "code",
      "source": [
        "# Confusion Matrix\n",
        "plt.figure(figsize=(5, 4))\n",
        "sns.heatmap(conf_matrix, annot=True, fmt='d', cmap=\"Blues\", cbar=False,\n",
        "            xticklabels=['No Default', 'Default'],\n",
        "            yticklabels=['No Default', 'Default'])\n",
        "plt.title(\"Confusion Matrix - Logistic Regression\")\n",
        "plt.xlabel(\"Predicted Label\")\n",
        "plt.ylabel(\"True Label\")\n",
        "plt.show()\n"
      ],
      "metadata": {
        "colab": {
          "base_uri": "https://localhost:8080/",
          "height": 410
        },
        "id": "gEcXulYYrxwz",
        "outputId": "73f85c0e-ab53-436f-d0de-2b64d82632b9"
      },
      "execution_count": 16,
      "outputs": [
        {
          "output_type": "display_data",
          "data": {
            "text/plain": [
              "<Figure size 500x400 with 1 Axes>"
            ],
            "image/png": "[encoded data removed]"
          },
          "metadata": {}
        }
      ]
    },
    {
      "cell_type": "code",
      "source": [
        "# Define Prediction Function\n",
        "RECOVERY_RATE = 0.10  # 10% recovery → 90% loss given default\n",
        "\n",
        "def predict_expected_loss(input_data):\n",
        "    \"\"\"\n",
        "    Estimate Probability of Default (PD) and Expected Loss (EL)\n",
        "    using trained logistic regression model.\n",
        "\n",
        "    Parameters:\n",
        "    input_data (dict): Borrower data\n",
        "\n",
        "    Returns:\n",
        "    dict: PD and Expected Loss\n",
        "    \"\"\"\n",
        "    df_input = pd.DataFrame([input_data])\n",
        "    df_input[\"payment_to_income\"] = df_input[\"loan_amt_outstanding\"] / df_input[\"income\"]\n",
        "    df_input[\"debt_to_income\"] = df_input[\"total_debt_outstanding\"] / df_input[\"income\"]\n",
        "\n",
        "    X_input = df_input[features]\n",
        "    pd_value = clf.predict_proba(X_input)[0, 1]\n",
        "    loan_amt = df_input[\"loan_amt_outstanding\"].values[0]\n",
        "    expected_loss = pd_value * loan_amt * (1 - RECOVERY_RATE)\n",
        "\n",
        "    return {\"PD\": pd_value, \"Expected_Loss\": expected_loss}"
      ],
      "metadata": {
        "id": "jeN3QVEOr5bQ"
      },
      "execution_count": 12,
      "outputs": []
    },
    {
      "cell_type": "code",
      "source": [
        "example_1 = {\n",
        "    \"credit_lines_outstanding\": 4,\n",
        "    \"loan_amt_outstanding\": 25000,\n",
        "    \"total_debt_outstanding\": 85000,\n",
        "    \"income\": 70000,\n",
        "    \"years_employed\": 6,\n",
        "    \"fico_score\": 710\n",
        "}\n",
        "\n",
        "\n",
        "print(\"\\n=== Example 1 ===\")\n",
        "res1 = predict_expected_loss(example_1)\n",
        "print(f\"Probability of Default: {res1['PD']:.2%}\")\n",
        "print(f\"Expected Loss: ${res1['Expected_Loss']:,.2f}\")"
      ],
      "metadata": {
        "id": "98V0jpWD0yKW",
        "colab": {
          "base_uri": "https://localhost:8080/"
        },
        "outputId": "bd7359e2-ead9-4778-f8a9-4001118e1312"
      },
      "execution_count": 14,
      "outputs": [
        {
          "output_type": "stream",
          "name": "stdout",
          "text": [
            "\n",
            "=== Example 1 ===\n",
            "Probability of Default: 37.51%\n",
            "Expected Loss: $8,439.54\n"
          ]
        }
      ]
    },
    {
      "cell_type": "code",
      "source": [
        "example_2 = {\n",
        "    \"credit_lines_outstanding\": 7,\n",
        "    \"loan_amt_outstanding\": 40000,\n",
        "    \"total_debt_outstanding\": 120000,\n",
        "    \"income\": 55000,\n",
        "    \"years_employed\": 3,\n",
        "    \"fico_score\": 620\n",
        "}\n",
        "\n",
        "print(\"\\n=== Example 2 ===\")\n",
        "res2 = predict_expected_loss(example_2)\n",
        "print(f\"Probability of Default: {res2['PD']:.2%}\")\n",
        "print(f\"Expected Loss: ${res2['Expected_Loss']:,.2f}\")"
      ],
      "metadata": {
        "colab": {
          "base_uri": "https://localhost:8080/"
        },
        "id": "erraFxUKpqQx",
        "outputId": "c96963d3-4218-439d-8762-3c86a39b3e08"
      },
      "execution_count": 15,
      "outputs": [
        {
          "output_type": "stream",
          "name": "stdout",
          "text": [
            "\n",
            "=== Example 2 ===\n",
            "Probability of Default: 100.00%\n",
            "Expected Loss: $36,000.00\n"
          ]
        }
      ]
    },
    {
      "cell_type": "code",
      "source": [],
      "metadata": {
        "id": "w2aYUKVPp08w"
      },
      "execution_count": null,
      "outputs": []
    }
  ]
}